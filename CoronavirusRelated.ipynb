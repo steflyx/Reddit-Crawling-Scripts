{
 "cells": [
  {
   "cell_type": "markdown",
   "metadata": {},
   "source": [
    "# Selecting data related to COVID-19\n",
    "In this notebook we will select among the submissions that are related to the coronavirus outbreak and those that are not. We'll start with the 'China' subreddit, whose posts are all labeled according to their topic and, therefore guarantees an easy check on the performances of the selector."
   ]
  },
  {
   "cell_type": "code",
   "execution_count": 1,
   "metadata": {},
   "outputs": [],
   "source": [
    "import pandas as pd\n",
    "from coronavirusRelatedTerms import coronavirus_terms_high_corr, coronavirus_terms_medium_corr, coronavirus_terms_low_corr\n",
    "from subreddit_list import subreddit_list\n",
    "import matplotlib.pyplot as plt\n",
    "%matplotlib inline\n",
    "\n",
    "pd.options.display.max_colwidth = 100"
   ]
  },
  {
   "cell_type": "code",
   "execution_count": 2,
   "metadata": {},
   "outputs": [],
   "source": [
    "base_path = 'D:\\Politecnico\\Tesi\\Script\\Reddit crawling\\Dataset\\\\'\n",
    "df = pd.read_csv(base_path + 'China' + \".csv\", low_memory = False)"
   ]
  },
  {
   "cell_type": "markdown",
   "metadata": {},
   "source": [
    "The title needs to be simplified to string for the following passages"
   ]
  },
  {
   "cell_type": "code",
   "execution_count": 3,
   "metadata": {},
   "outputs": [
    {
     "data": {
      "text/plain": [
       "0       C\n",
       "1       D\n",
       "2       T\n",
       "3       L\n",
       "4       W\n",
       "       ..\n",
       "9995    C\n",
       "9996    N\n",
       "9997    W\n",
       "9998    D\n",
       "9999    农\n",
       "Name: title, Length: 10000, dtype: object"
      ]
     },
     "execution_count": 3,
     "metadata": {},
     "output_type": "execute_result"
    }
   ],
   "source": [
    "def simplify_title(title):\n",
    "    return str(title[0])\n",
    "\n",
    "df['title'].apply(simplify_title)"
   ]
  },
  {
   "cell_type": "markdown",
   "metadata": {},
   "source": [
    "## Selector\n",
    "The selection principle is easy: after choosing a subset of words related to the coronavirus, we check how many of those are present inside the title of each submission. According to the result, we define whether the post is related or not. Not all of the words have the same weight: some guarantee its relatedness (eg 'coronavirus' or 'covid'), while others have a lighter correlation (eg 'mask' or 'who')."
   ]
  },
  {
   "cell_type": "markdown",
   "metadata": {},
   "source": [
    "To select these words I made use of Google Trends"
   ]
  },
  {
   "cell_type": "code",
   "execution_count": 4,
   "metadata": {},
   "outputs": [],
   "source": [
    "MEDIUM_CORR_SUPPORT = 0.3\n",
    "LOW_CORR_SUPPORT = 0.2\n",
    "MIN_SUPPORT = 0.5\n",
    "\n",
    "def coronavirus_related(row):\n",
    "    words = row['title'].lower().split(\" \")\n",
    "    chance = 0\n",
    "    for word in words:\n",
    "        if word in coronavirus_terms_high_corr:\n",
    "            return True\n",
    "        if word in coronavirus_terms_medium_corr:\n",
    "            chance += MEDIUM_CORR_SUPPORT\n",
    "        if word in coronavirus_terms_low_corr:\n",
    "            chance += LOW_CORR_SUPPORT\n",
    "        if chance > MIN_SUPPORT:\n",
    "            return True\n",
    "    return False"
   ]
  },
  {
   "cell_type": "code",
   "execution_count": 5,
   "metadata": {},
   "outputs": [
    {
     "data": {
      "text/plain": [
       "2826"
      ]
     },
     "execution_count": 5,
     "metadata": {},
     "output_type": "execute_result"
    }
   ],
   "source": [
    "df['cv_related'] = df.apply(lambda row: coronavirus_related(row), axis=1)\n",
    "len(df[df['cv_related'] == True])"
   ]
  },
  {
   "cell_type": "markdown",
   "metadata": {},
   "source": [
    "We can see that 3110 out of the original 10000 are related to the coronavirus according to our computation. Let's go look a little bit more in detail these results."
   ]
  },
  {
   "cell_type": "code",
   "execution_count": 6,
   "metadata": {},
   "outputs": [],
   "source": [
    "df_group = df.drop(df.columns.difference(['link_flair_text','cv_related']), 1)\n",
    "df_group['cv_unrelated'] = (df_group['cv_related'] == False)\n",
    "df_group = df_group.groupby(by = 'link_flair_text').sum()"
   ]
  },
  {
   "cell_type": "code",
   "execution_count": 7,
   "metadata": {},
   "outputs": [
    {
     "data": {
      "text/html": [
       "<div>\n",
       "<style scoped>\n",
       "    .dataframe tbody tr th:only-of-type {\n",
       "        vertical-align: middle;\n",
       "    }\n",
       "\n",
       "    .dataframe tbody tr th {\n",
       "        vertical-align: top;\n",
       "    }\n",
       "\n",
       "    .dataframe thead th {\n",
       "        text-align: right;\n",
       "    }\n",
       "</style>\n",
       "<table border=\"1\" class=\"dataframe\">\n",
       "  <thead>\n",
       "    <tr style=\"text-align: right;\">\n",
       "      <th></th>\n",
       "      <th>cv_related</th>\n",
       "      <th>cv_unrelated</th>\n",
       "    </tr>\n",
       "    <tr>\n",
       "      <th>link_flair_text</th>\n",
       "      <th></th>\n",
       "      <th></th>\n",
       "    </tr>\n",
       "  </thead>\n",
       "  <tbody>\n",
       "    <tr>\n",
       "      <th>:Hongbao: 精华帖 | Highlighted Post :Hongbao:</th>\n",
       "      <td>0.0</td>\n",
       "      <td>4.0</td>\n",
       "    </tr>\n",
       "    <tr>\n",
       "      <th>HK Protests</th>\n",
       "      <td>3.0</td>\n",
       "      <td>27.0</td>\n",
       "    </tr>\n",
       "    <tr>\n",
       "      <th>Hong Kong Protests</th>\n",
       "      <td>4.0</td>\n",
       "      <td>26.0</td>\n",
       "    </tr>\n",
       "    <tr>\n",
       "      <th>中国官媒 | China State Sponsored Media</th>\n",
       "      <td>0.0</td>\n",
       "      <td>1.0</td>\n",
       "    </tr>\n",
       "    <tr>\n",
       "      <th>中国官媒 | China State-Sponsored Media</th>\n",
       "      <td>10.0</td>\n",
       "      <td>24.0</td>\n",
       "    </tr>\n",
       "    <tr>\n",
       "      <th>中国生活 | Life in China</th>\n",
       "      <td>34.0</td>\n",
       "      <td>164.0</td>\n",
       "    </tr>\n",
       "    <tr>\n",
       "      <th>中国生活 | Living in China</th>\n",
       "      <td>37.0</td>\n",
       "      <td>167.0</td>\n",
       "    </tr>\n",
       "    <tr>\n",
       "      <th>人情味 | Human Interest Story</th>\n",
       "      <td>72.0</td>\n",
       "      <td>123.0</td>\n",
       "    </tr>\n",
       "    <tr>\n",
       "      <th>俄国官媒 | Russia State-Sponsored Media</th>\n",
       "      <td>3.0</td>\n",
       "      <td>1.0</td>\n",
       "    </tr>\n",
       "    <tr>\n",
       "      <th>俄国官媒 | Russian State-Sponsored Media</th>\n",
       "      <td>1.0</td>\n",
       "      <td>0.0</td>\n",
       "    </tr>\n",
       "    <tr>\n",
       "      <th>冠状病毒 | Coronavirus</th>\n",
       "      <td>886.0</td>\n",
       "      <td>846.0</td>\n",
       "    </tr>\n",
       "    <tr>\n",
       "      <th>历史 | History</th>\n",
       "      <td>9.0</td>\n",
       "      <td>113.0</td>\n",
       "    </tr>\n",
       "    <tr>\n",
       "      <th>咨询 | Advice</th>\n",
       "      <td>20.0</td>\n",
       "      <td>192.0</td>\n",
       "    </tr>\n",
       "    <tr>\n",
       "      <th>咨询 | Advice (Serious)</th>\n",
       "      <td>1.0</td>\n",
       "      <td>4.0</td>\n",
       "    </tr>\n",
       "    <tr>\n",
       "      <th>咨询 | Seeking Advice (Serious)</th>\n",
       "      <td>6.0</td>\n",
       "      <td>151.0</td>\n",
       "    </tr>\n",
       "    <tr>\n",
       "      <th>搞笑 | Comedy</th>\n",
       "      <td>54.0</td>\n",
       "      <td>295.0</td>\n",
       "    </tr>\n",
       "    <tr>\n",
       "      <th>政治 | Politics</th>\n",
       "      <td>122.0</td>\n",
       "      <td>453.0</td>\n",
       "    </tr>\n",
       "    <tr>\n",
       "      <th>文化 | Culture</th>\n",
       "      <td>26.0</td>\n",
       "      <td>353.0</td>\n",
       "    </tr>\n",
       "    <tr>\n",
       "      <th>新闻 | General News</th>\n",
       "      <td>217.0</td>\n",
       "      <td>445.0</td>\n",
       "    </tr>\n",
       "    <tr>\n",
       "      <th>旅游 | Travel</th>\n",
       "      <td>20.0</td>\n",
       "      <td>145.0</td>\n",
       "    </tr>\n",
       "    <tr>\n",
       "      <th>法律 | Law</th>\n",
       "      <td>1.0</td>\n",
       "      <td>32.0</td>\n",
       "    </tr>\n",
       "    <tr>\n",
       "      <th>法轮功媒体 | FLG Sponsored Media</th>\n",
       "      <td>3.0</td>\n",
       "      <td>0.0</td>\n",
       "    </tr>\n",
       "    <tr>\n",
       "      <th>法轮功媒体 | FLG-Sponsored Media</th>\n",
       "      <td>5.0</td>\n",
       "      <td>7.0</td>\n",
       "    </tr>\n",
       "    <tr>\n",
       "      <th>火 | Viral China/Offbeat</th>\n",
       "      <td>72.0</td>\n",
       "      <td>140.0</td>\n",
       "    </tr>\n",
       "    <tr>\n",
       "      <th>热点新闻 | Breaking News</th>\n",
       "      <td>165.0</td>\n",
       "      <td>229.0</td>\n",
       "    </tr>\n",
       "    <tr>\n",
       "      <th>环境保护 | Environmentalism</th>\n",
       "      <td>1.0</td>\n",
       "      <td>10.0</td>\n",
       "    </tr>\n",
       "    <tr>\n",
       "      <th>科技 | Tech</th>\n",
       "      <td>17.0</td>\n",
       "      <td>212.0</td>\n",
       "    </tr>\n",
       "    <tr>\n",
       "      <th>经济 | Economy</th>\n",
       "      <td>73.0</td>\n",
       "      <td>187.0</td>\n",
       "    </tr>\n",
       "    <tr>\n",
       "      <th>美国官媒 | US State Sponsored Media</th>\n",
       "      <td>1.0</td>\n",
       "      <td>0.0</td>\n",
       "    </tr>\n",
       "    <tr>\n",
       "      <th>美国官媒 | US State-Sponsored Media</th>\n",
       "      <td>9.0</td>\n",
       "      <td>14.0</td>\n",
       "    </tr>\n",
       "    <tr>\n",
       "      <th>观点文章 | Opinion Piece</th>\n",
       "      <td>49.0</td>\n",
       "      <td>158.0</td>\n",
       "    </tr>\n",
       "    <tr>\n",
       "      <th>讨论 | Discussion</th>\n",
       "      <td>107.0</td>\n",
       "      <td>371.0</td>\n",
       "    </tr>\n",
       "    <tr>\n",
       "      <th>讨论 | Discussion (Serious)</th>\n",
       "      <td>55.0</td>\n",
       "      <td>294.0</td>\n",
       "    </tr>\n",
       "    <tr>\n",
       "      <th>语言 | Language</th>\n",
       "      <td>2.0</td>\n",
       "      <td>87.0</td>\n",
       "    </tr>\n",
       "    <tr>\n",
       "      <th>辩论 | Debate</th>\n",
       "      <td>10.0</td>\n",
       "      <td>32.0</td>\n",
       "    </tr>\n",
       "  </tbody>\n",
       "</table>\n",
       "</div>"
      ],
      "text/plain": [
       "                                            cv_related  cv_unrelated\n",
       "link_flair_text                                                     \n",
       ":Hongbao: 精华帖 | Highlighted Post :Hongbao:         0.0           4.0\n",
       "HK Protests                                        3.0          27.0\n",
       "Hong Kong Protests                                 4.0          26.0\n",
       "中国官媒 | China State Sponsored Media                 0.0           1.0\n",
       "中国官媒 | China State-Sponsored Media                10.0          24.0\n",
       "中国生活 | Life in China                              34.0         164.0\n",
       "中国生活 | Living in China                            37.0         167.0\n",
       "人情味 | Human Interest Story                        72.0         123.0\n",
       "俄国官媒 | Russia State-Sponsored Media                3.0           1.0\n",
       "俄国官媒 | Russian State-Sponsored Media               1.0           0.0\n",
       "冠状病毒 | Coronavirus                               886.0         846.0\n",
       "历史 | History                                       9.0         113.0\n",
       "咨询 | Advice                                       20.0         192.0\n",
       "咨询 | Advice (Serious)                              1.0           4.0\n",
       "咨询 | Seeking Advice (Serious)                      6.0         151.0\n",
       "搞笑 | Comedy                                       54.0         295.0\n",
       "政治 | Politics                                    122.0         453.0\n",
       "文化 | Culture                                      26.0         353.0\n",
       "新闻 | General News                                217.0         445.0\n",
       "旅游 | Travel                                       20.0         145.0\n",
       "法律 | Law                                           1.0          32.0\n",
       "法轮功媒体 | FLG Sponsored Media                        3.0           0.0\n",
       "法轮功媒体 | FLG-Sponsored Media                        5.0           7.0\n",
       "火 | Viral China/Offbeat                           72.0         140.0\n",
       "热点新闻 | Breaking News                             165.0         229.0\n",
       "环境保护 | Environmentalism                            1.0          10.0\n",
       "科技 | Tech                                         17.0         212.0\n",
       "经济 | Economy                                      73.0         187.0\n",
       "美国官媒 | US State Sponsored Media                    1.0           0.0\n",
       "美国官媒 | US State-Sponsored Media                    9.0          14.0\n",
       "观点文章 | Opinion Piece                              49.0         158.0\n",
       "讨论 | Discussion                                  107.0         371.0\n",
       "讨论 | Discussion (Serious)                         55.0         294.0\n",
       "语言 | Language                                      2.0          87.0\n",
       "辩论 | Debate                                       10.0          32.0"
      ]
     },
     "execution_count": 7,
     "metadata": {},
     "output_type": "execute_result"
    }
   ],
   "source": [
    "df_group"
   ]
  },
  {
   "cell_type": "code",
   "execution_count": 9,
   "metadata": {},
   "outputs": [
    {
     "data": {
      "image/png": "[encoded data removed]",
      "text/plain": [
       "<matplotlib.figure.Figure at 0x2545d83b2b0>"
      ]
     },
     "metadata": {
      "needs_background": "light"
     },
     "output_type": "display_data"
    }
   ],
   "source": [
    "plt.bar(df_group.index, df_group['cv_related'], color='#b5ffb9', edgecolor='white')\n",
    "plt.bar(df_group.index, df_group['cv_unrelated'], bottom=df_group['cv_related'], color='#f9bc86', edgecolor='white')\n",
    "\n",
    "plt.legend(['Related', 'Unrelated'], prop = {'size':15})\n",
    "plt.xticks(rotation=90)\n",
    "plt.rcParams[\"figure.figsize\"] = (20,8)\n",
    "plt.show()"
   ]
  },
  {
   "cell_type": "markdown",
   "metadata": {},
   "source": [
    "Apparently, not all of the posts in the Coronavirus section are actually related to the Coronavirus, while a lot of other related posts can be found in other categories. Let's try to grab some of them to see what happened, for example from the 'Hong Kong Protests' and 'Tech' subreddits."
   ]
  },
  {
   "cell_type": "code",
   "execution_count": 10,
   "metadata": {},
   "outputs": [
    {
     "data": {
      "text/plain": [
       "520        Discussing Hong Kong, Politics, Propaganda, Brainwashing, Media &amp; Coronavirus With Dan Cohen\n",
       "1055    Why Coronavirus hasn’t stopped Hong Kong’s protest movement: Governments are seizing the opportu...\n",
       "2371                        Hong Kong police are using Coronavirus restrictions to clamp down on protesters\n",
       "3083                Support for Hong Kong protesters' demands rises even as coronavirus halts rallies: poll\n",
       "Name: title, dtype: object"
      ]
     },
     "execution_count": 10,
     "metadata": {},
     "output_type": "execute_result"
    }
   ],
   "source": [
    "df[(df['link_flair_text'] == 'Hong Kong Protests') & (df['cv_related'] == True)]['title']"
   ]
  },
  {
   "cell_type": "code",
   "execution_count": 11,
   "metadata": {},
   "outputs": [
    {
     "data": {
      "text/plain": [
       "295            Covid-19 Quarantine Makes It Easier to Cheat in Exams in China - Online Education - PingWest\n",
       "788                               Huawei boss warns UK against halting 5G rollout during coronavirus crisis\n",
       "1354                                            Korean hackers are targeting China over Covid-19 · TechNode\n",
       "2463    China's Coronavirus health code apps raise concerns over privacy: Apps, which allow people to mo...\n",
       "2502                 How China unleashed Twitter bots to spread COVID-19 propaganda in Italy - Formiche.net\n",
       "4878                                              How Baidu is bringing AI to the fight against coronavirus\n",
       "5112                                 China firm develops system to recognize faces behind coronavirus masks\n",
       "5740    Peter Zeihan: “The Chinese have steadily built up these tools for citizen surveillance. They're ...\n",
       "6327                                                        Coronavirus will delay China’s digital currency\n",
       "7914                                 China Launches App Which Tells If Someone With Coronavirus Is Near You\n",
       "7956    Tesla will Resume Production in the Chinese Gigafactory Today After the Stop for the Coronavirus...\n",
       "8384    CargoX is helping exporters and logistics companies during the coronavirus crisis with FREE OF C...\n",
       "8408                                                            Coronavirus shuts down Chinese Bitcoin mine\n",
       "9049            Coronavirus Outbreak: Apple is Closing all Offices and Stores in China through February 9th\n",
       "9112                                                        The Wuhan coronavirus has nothing to do with 5G\n",
       "9283                                      Taipei Game Show was adjourned, and the coronavirus is the reason\n",
       "9892    Hello, I changed my phone number recently and now I can't register in WeChat, it says I need som...\n",
       "Name: title, dtype: object"
      ]
     },
     "execution_count": 11,
     "metadata": {},
     "output_type": "execute_result"
    }
   ],
   "source": [
    "df[(df['link_flair_text'] == '科技 | Tech') & (df['cv_related'] == True)]['title']"
   ]
  },
  {
   "cell_type": "markdown",
   "metadata": {},
   "source": [
    "The titles in the first section were correctly labeled as 'related', the posts in this case were just from two overlapping topics. The second section is more interesting: again most of the posts are coronavirus-related, but some of them were incorrectly labeled, mainly because of the words 'China' and 'Chinese'. These two words are probably causing other false positives, so I'll take care of lowering their weight in the selection. Another thing to keep in mind is to avoid counting more than one time the same word, like in posts nr 1310 and 1313."
   ]
  },
  {
   "cell_type": "markdown",
   "metadata": {},
   "source": [
    "Peculiar is instead the post number 5951: it contains the words 'outbreak', 'viral' and 'chinese', but is not talking about coronavirus. Unfortunately a certain number of false positives like this is inevitable."
   ]
  },
  {
   "cell_type": "markdown",
   "metadata": {},
   "source": [
    "Let's now focus on the false negatives, by looking at posts labeled as 'coronavirus related' that the selection labeled as unrelated."
   ]
  },
  {
   "cell_type": "code",
   "execution_count": 12,
   "metadata": {},
   "outputs": [
    {
     "data": {
      "text/plain": [
       "3      Lv Weisheng, Vice President of Shanghai Institute of Public Relations: China's Contribution Can'...\n",
       "8                      Eric Weinstein Podcast: Jamie Metzl - The Bio-Hacker will see you now, Ready or Not\n",
       "17     Distribution of masks, disinfectant among Chinese expats gets wary reception in France | The Jap...\n",
       "41                   There is no cover up because cover ups are illegal and China doesn't do illegal stuff\n",
       "42                                              G7 backing for WHO leaves Trump isolated at virtual summit\n",
       "46                                 Does the CCP even realize that they are hated by the rest of the world?\n",
       "72                                                                            Racist much ?! Fuck the CCP!\n",
       "81                                        It is an injustice what they are doing against Chinese and China\n",
       "100    The Fight For Truth In China: CDT Censorship Digest, March 2020: With Every Disaster Comes a Bat...\n",
       "101    Latest update from China, second wave/school openings/entry to the country etc. It has been almo...\n",
       "Name: title, dtype: object"
      ]
     },
     "execution_count": 12,
     "metadata": {},
     "output_type": "execute_result"
    }
   ],
   "source": [
    "df[(df['link_flair_text'] == '冠状病毒 | Coronavirus') & (df['cv_related'] == False)]['title'][0:10]"
   ]
  },
  {
   "cell_type": "markdown",
   "metadata": {},
   "source": [
    "## Apply selection to all datasets\n",
    "After the definition of the selection process, it's time to extend it to all the data previously gathered."
   ]
  },
  {
   "cell_type": "code",
   "execution_count": 18,
   "metadata": {},
   "outputs": [
    {
     "name": "stdout",
     "output_type": "stream",
     "text": [
      "coronavirusDownunder info:\n",
      "\tThere are 1510 posts related to COVID-19 out of 5684\n",
      "\n",
      "\n",
      "coronavirusMemes info:\n",
      "\tThere are 1225 posts related to COVID-19 out of 10000\n",
      "\n",
      "\n",
      "coronavirusUK info:\n",
      "\tThere are 2175 posts related to COVID-19 out of 10000\n",
      "\n",
      "\n",
      "coronavirusFOS info:\n",
      "\tThere are 2586 posts related to COVID-19 out of 6324\n",
      "\n",
      "\n",
      "COVID19 info:\n",
      "\tThere are 5143 posts related to COVID-19 out of 10000\n",
      "\n",
      "\n",
      "Covid2019 info:\n",
      "\tThere are 1841 posts related to COVID-19 out of 3198\n",
      "\n",
      "\n",
      "Moronavirus info:\n",
      "\tThere are 343 posts related to COVID-19 out of 1194\n",
      "\n",
      "\n",
      "China_Flu_Uncensored info:\n",
      "\tThere are 542 posts related to COVID-19 out of 1169\n",
      "\n",
      "\n",
      "China_Flu info:\n",
      "\tThere are 5159 posts related to COVID-19 out of 10000\n",
      "\n",
      "\n",
      "nCoV info:\n",
      "\tThere are 3090 posts related to COVID-19 out of 4744\n",
      "\n",
      "\n",
      "CoronavirusUS info:\n",
      "\tThere are 3651 posts related to COVID-19 out of 10000\n",
      "\n",
      "\n",
      "Coronavirus info:\n",
      "\tThere are 5463 posts related to COVID-19 out of 10000\n",
      "\n",
      "\n",
      "CoronavirusNewYork info:\n",
      "\tThere are 1020 posts related to COVID-19 out of 2617\n",
      "\n",
      "\n",
      "CoronavirusCA info:\n",
      "\tThere are 1484 posts related to COVID-19 out of 3932\n",
      "\n",
      "\n",
      "cvnews info:\n",
      "\tThere are 2642 posts related to COVID-19 out of 4583\n",
      "\n",
      "\n",
      "China info:\n",
      "\tThere are 2826 posts related to COVID-19 out of 10000\n",
      "\n",
      "\n",
      "conspiracy info:\n",
      "\tThere are 1785 posts related to COVID-19 out of 10000\n",
      "\n",
      "\n",
      "photoshopbattles info:\n",
      "\tThere are 184 posts related to COVID-19 out of 10000\n",
      "\n",
      "\n",
      "nottheonion info:\n",
      "\tThere are 3456 posts related to COVID-19 out of 10000\n",
      "\n",
      "\n",
      "usanews info:\n",
      "\tThere are 553 posts related to COVID-19 out of 10000\n",
      "\n",
      "\n",
      "upliftingnews info:\n",
      "\tThere are 2285 posts related to COVID-19 out of 10000\n",
      "\n",
      "\n",
      "mildlyinteresting info:\n",
      "\tThere are 191 posts related to COVID-19 out of 10000\n",
      "\n",
      "\n",
      "USNEWS info:\n",
      "\tThere are 684 posts related to COVID-19 out of 10000\n",
      "\n",
      "\n",
      "satire info:\n",
      "\tThere are 158 posts related to COVID-19 out of 10000\n",
      "\n",
      "\n",
      "WaterfordWhispersNews info:\n",
      "\tThere are 53 posts related to COVID-19 out of 1900\n",
      "\n",
      "\n",
      "TheOnion info:\n",
      "\tThere are 72 posts related to COVID-19 out of 10000\n",
      "\n",
      "\n",
      "PropagandaPosters info:\n",
      "\tThere are 63 posts related to COVID-19 out of 10000\n",
      "\n",
      "\n",
      "FakeFacts info:\n",
      "\tThere are 10 posts related to COVID-19 out of 2406\n",
      "\n",
      "\n",
      "savedyouaclick info:\n",
      "\tThere are 185 posts related to COVID-19 out of 10000\n",
      "\n",
      "\n",
      "fakehistoryporn info:\n",
      "\tThere are 967 posts related to COVID-19 out of 10000\n",
      "\n",
      "\n",
      "subredditsimulator info:\n",
      "\tThere are 15 posts related to COVID-19 out of 10000\n",
      "\n",
      "\n"
     ]
    }
   ],
   "source": [
    "info_lists = []\n",
    "\n",
    "for subreddit_name in subreddit_list:\n",
    "    df = pd.read_csv(base_path + subreddit_name + \".csv\", low_memory = False)\n",
    "    df['title'].apply(simplify_title)\n",
    "    df['cv_related'] = df.apply(lambda row: coronavirus_related(row), axis=1)\n",
    "    info = {'name': subreddit_name, 'num_related': sum(df['cv_related']), 'num_unrelated': len(df) - sum(df['cv_related'])}\n",
    "    \n",
    "    info_lists.append(info)\n",
    "    \n",
    "    print(subreddit_name + \" info:\")\n",
    "    print(\"\\tThere are \" + str(info['num_related']) + \" posts related to COVID-19 out of \" + str(info['num_related'] + info['num_unrelated']))\n",
    "    print(\"\\n\")"
   ]
  },
  {
   "cell_type": "code",
   "execution_count": 20,
   "metadata": {},
   "outputs": [],
   "source": [
    "df_corr = pd.DataFrame(info_lists)"
   ]
  },
  {
   "cell_type": "code",
   "execution_count": 21,
   "metadata": {},
   "outputs": [
    {
     "data": {
      "image/png": "[encoded data removed]",
      "text/plain": [
       "<matplotlib.figure.Figure at 0x2545cf60710>"
      ]
     },
     "metadata": {
      "needs_background": "light"
     },
     "output_type": "display_data"
    }
   ],
   "source": [
    "plt.bar(df_corr['name'], df_corr['num_related'], color='#b5ffb9', edgecolor='white')\n",
    "plt.bar(df_corr['name'], df_corr['num_unrelated'], bottom=df_corr['num_related'], color='#f9bc86', edgecolor='white')\n",
    "\n",
    "plt.legend(['Related', 'Unrelated'], prop = {'size':15})\n",
    "plt.xticks(rotation=90)\n",
    "plt.rcParams[\"figure.figsize\"] = (20,8)\n",
    "plt.show()"
   ]
  },
  {
   "cell_type": "code",
   "execution_count": null,
   "metadata": {},
   "outputs": [],
   "source": []
  }
 ],
 "metadata": {
  "kernelspec": {
   "display_name": "Python 3",
   "language": "python",
   "name": "python3"
  },
  "language_info": {
   "codemirror_mode": {
    "name": "ipython",
    "version": 3
   },
   "file_extension": ".py",
   "mimetype": "text/x-python",
   "name": "python",
   "nbconvert_exporter": "python",
   "pygments_lexer": "ipython3",
   "version": "3.6.4"
  }
 },
 "nbformat": 4,
 "nbformat_minor": 2
}
