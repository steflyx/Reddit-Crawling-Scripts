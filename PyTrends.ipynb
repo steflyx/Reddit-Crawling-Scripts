{
 "cells": [
  {
   "cell_type": "code",
   "execution_count": 1,
   "metadata": {},
   "outputs": [],
   "source": [
    "import pandas as pd                        \n",
    "from pytrends.request import TrendReq\n",
    "pytrend = TrendReq()"
   ]
  },
  {
   "cell_type": "code",
   "execution_count": 2,
   "metadata": {},
   "outputs": [],
   "source": [
    "keywords = ['lockdown', 'intervention']\n",
    "pytrend.build_payload(kw_list = keywords)\n",
    "related_queries = pytrend.related_queries()"
   ]
  },
  {
   "cell_type": "code",
   "execution_count": 3,
   "metadata": {},
   "outputs": [],
   "source": [
    "df_queries = pd.DataFrame()\n",
    "for word in keywords:\n",
    "    df_queries = df_queries.append(pd.DataFrame(related_queries[word]['rising']))\n",
    "    df_queries = df_queries.append(pd.DataFrame(related_queries[word]['top']))\n",
    "df_queries.reset_index(inplace=True)\n",
    "df_queries.drop(columns=['value','index'], axis=1, inplace=True)"
   ]
  },
  {
   "cell_type": "code",
   "execution_count": 4,
   "metadata": {},
   "outputs": [
    {
     "name": "stdout",
     "output_type": "stream",
     "text": [
      "                                  query\n",
      "0                  lockdown coronavirus\n",
      "1                           coronavirus\n",
      "2                     covid 19 lockdown\n",
      "3                              covid 19\n",
      "4               coronavirus uk lockdown\n",
      "5                        coronavirus uk\n",
      "6                          corona virus\n",
      "7                     coronavirus india\n",
      "8                    coronavirus update\n",
      "9                     italy coronavirus\n",
      "10                       wuhan lockdown\n",
      "11                 coronavirus in india\n",
      "12             india lockdown extension\n",
      "13              india lockdown extended\n",
      "14                               corona\n",
      "15                      lockdown adalah\n",
      "16                        arti lockdown\n",
      "17                    italy on lockdown\n",
      "18            lockdown meaning in hindi\n",
      "19                  india lockdown date\n",
      "20                 maharashtra lockdown\n",
      "21                                 modi\n",
      "22              us lockdown coronavirus\n",
      "23          how long will lockdown last\n",
      "24                      mumbai lockdown\n",
      "25                 lockdown coronavirus\n",
      "26                          coronavirus\n",
      "27                          uk lockdown\n",
      "28                       india lockdown\n",
      "29                        lockdown news\n",
      "30                      corona lockdown\n",
      "31                               corona\n",
      "32                    lockdown in india\n",
      "33                      school lockdown\n",
      "34                    covid 19 lockdown\n",
      "35                     lockdown meaning\n",
      "36                                italy\n",
      "37                       italy lockdown\n",
      "38                             covid 19\n",
      "39                      lockdown update\n",
      "40                     lockdown browser\n",
      "41                     what is lockdown\n",
      "42                    lockdown extended\n",
      "43              coronavirus uk lockdown\n",
      "44                       coronavirus uk\n",
      "45                        lockdown date\n",
      "46                            lock down\n",
      "47                   lockdown extension\n",
      "48                       state lockdown\n",
      "49                         corona virus\n",
      "50                  intervention macron\n",
      "51        intervention edouard philippe\n",
      "52           intervention macron direct\n",
      "53               divine intervention 5e\n",
      "54        fallout 4 benign intervention\n",
      "55               intervention season 20\n",
      "56    intervention meaning in malayalam\n",
      "57         intervention emmanuel macron\n",
      "58             taylor from intervention\n",
      "59                   intervention noovo\n",
      "60  intervention macron direct france 2\n",
      "61                  heroic intervention\n",
      "62       intervention de macron ce soir\n",
      "63        intervention meaning in tamil\n",
      "64      intervention meaning in marathi\n",
      "65     6-2 study guide and intervention\n",
      "66     8-6 study guide and intervention\n",
      "67             intervention codependent\n",
      "68        russian intervention in syria\n",
      "69                     spy intervention\n",
      "70                 intervention svenska\n",
      "71     6-1 study guide and intervention\n",
      "72     4-3 study guide and intervention\n",
      "73  trust based relational intervention\n",
      "74      printer needs user intervention\n",
      "75                     the intervention\n",
      "76                   early intervention\n",
      "77                 what is intervention\n",
      "78                      an intervention\n",
      "79                 intervention meaning\n",
      "80                 nursing intervention\n",
      "81                  crisis intervention\n",
      "82              intervention definition\n",
      "83                  health intervention\n",
      "84                  divine intervention\n",
      "85                        interventions\n",
      "86                 intervention program\n",
      "87              government intervention\n",
      "88                    intervention plan\n",
      "89         study guide and intervention\n",
      "90                  social intervention\n",
      "91                intervention services\n",
      "92              what is an intervention\n",
      "93                  family intervention\n",
      "94                 reading intervention\n",
      "95              intervention strategies\n",
      "96                      us intervention\n",
      "97                 medical intervention\n",
      "98             response to intervention\n",
      "99                military intervention\n"
     ]
    }
   ],
   "source": [
    "with pd.option_context('display.max_rows', None, 'display.max_columns', None):\n",
    "    print(df_queries)"
   ]
  },
  {
   "cell_type": "code",
   "execution_count": null,
   "metadata": {},
   "outputs": [],
   "source": []
  }
 ],
 "metadata": {
  "kernelspec": {
   "display_name": "Python 3",
   "language": "python",
   "name": "python3"
  },
  "language_info": {
   "codemirror_mode": {
    "name": "ipython",
    "version": 3
   },
   "file_extension": ".py",
   "mimetype": "text/x-python",
   "name": "python",
   "nbconvert_exporter": "python",
   "pygments_lexer": "ipython3",
   "version": "3.6.4"
  }
 },
 "nbformat": 4,
 "nbformat_minor": 2
}
